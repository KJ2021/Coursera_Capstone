{
  "nbformat": 4,
  "nbformat_minor": 0,
  "metadata": {
    "kernelspec": {
      "display_name": "Python 3",
      "language": "python",
      "name": "python3"
    },
    "language_info": {
      "codemirror_mode": {
        "name": "ipython",
        "version": 3
      },
      "file_extension": ".py",
      "mimetype": "text/x-python",
      "name": "python",
      "nbconvert_exporter": "python",
      "pygments_lexer": "ipython3",
      "version": "3.6.8"
    },
    "colab": {
      "name": "Week3_assignment_2.ipynb",
      "provenance": [],
      "collapsed_sections": [],
      "toc_visible": true
    }
  },
  "cells": [
    {
      "cell_type": "markdown",
      "metadata": {
        "id": "nakBJLdo8Qwa"
      },
      "source": [
        "# Assignment 1 for week 3"
      ]
    },
    {
      "cell_type": "markdown",
      "metadata": {
        "id": "73ab604a8Qwh"
      },
      "source": [
        "## 1. Create Dataset"
      ]
    },
    {
      "cell_type": "code",
      "metadata": {
        "colab": {
          "base_uri": "https://localhost:8080/"
        },
        "id": "fiaAB-w36IjF",
        "outputId": "eb189127-4c16-4a2b-ebcf-c248c254ba5f"
      },
      "source": [
        "!pip install beautifulsoup4"
      ],
      "execution_count": 11,
      "outputs": [
        {
          "output_type": "stream",
          "text": [
            "Requirement already satisfied: beautifulsoup4 in /usr/local/lib/python3.7/dist-packages (4.6.3)\n"
          ],
          "name": "stdout"
        }
      ]
    },
    {
      "cell_type": "code",
      "metadata": {
        "id": "LVL2J7Dg6T0-"
      },
      "source": [
        "from bs4 import BeautifulSoup\n",
        "import requests\n",
        "import pandas as pd\n",
        "import csv "
      ],
      "execution_count": 12,
      "outputs": []
    },
    {
      "cell_type": "code",
      "metadata": {
        "id": "75jEtZHR6NdM"
      },
      "source": [
        "source = requests.get('https://en.wikipedia.org/wiki/List_of_postal_codes_of_Canada:_M').text \n",
        "soup = BeautifulSoup(source, 'lxml') "
      ],
      "execution_count": 13,
      "outputs": []
    },
    {
      "cell_type": "code",
      "metadata": {
        "id": "DUyGcmpu54HN"
      },
      "source": [
        "table_contents=[]\n",
        "table=soup.find('table')\n",
        "for row in table.findAll('td'):\n",
        "    cell = {}\n",
        "    if row.span.text=='Not assigned':\n",
        "        pass\n",
        "    else:\n",
        "        cell['PostalCode'] = row.p.text[:3]\n",
        "        cell['Borough'] = (row.span.text).split('(')[0]\n",
        "        cell['Neighborhood'] = (((((row.span.text).split('(')[1]).strip(')')).replace(' /',',')).replace(')',' ')).strip(' ')\n",
        "        table_contents.append(cell)\n",
        "\n",
        "# print(table_contents)\n",
        "df=pd.DataFrame(table_contents)\n",
        "df['Borough']=df['Borough'].replace({'Downtown TorontoStn A PO Boxes25 The Esplanade':'Downtown Toronto Stn A',\n",
        "                                             'East TorontoBusiness reply mail Processing Centre969 Eastern':'East Toronto Business',\n",
        "                                             'EtobicokeNorthwest':'Etobicoke Northwest','East YorkEast Toronto':'East York/East Toronto',\n",
        "                                             'MississaugaCanada Post Gateway Processing Centre':'Mississauga'})"
      ],
      "execution_count": 14,
      "outputs": []
    },
    {
      "cell_type": "code",
      "metadata": {
        "colab": {
          "base_uri": "https://localhost:8080/",
          "height": 419
        },
        "id": "yO8-BNBT6Q4S",
        "outputId": "2b7a62e4-cba1-42bb-e6ae-ad993dbe11af"
      },
      "source": [
        "df"
      ],
      "execution_count": 15,
      "outputs": [
        {
          "output_type": "execute_result",
          "data": {
            "text/html": [
              "<div>\n",
              "<style scoped>\n",
              "    .dataframe tbody tr th:only-of-type {\n",
              "        vertical-align: middle;\n",
              "    }\n",
              "\n",
              "    .dataframe tbody tr th {\n",
              "        vertical-align: top;\n",
              "    }\n",
              "\n",
              "    .dataframe thead th {\n",
              "        text-align: right;\n",
              "    }\n",
              "</style>\n",
              "<table border=\"1\" class=\"dataframe\">\n",
              "  <thead>\n",
              "    <tr style=\"text-align: right;\">\n",
              "      <th></th>\n",
              "      <th>PostalCode</th>\n",
              "      <th>Borough</th>\n",
              "      <th>Neighborhood</th>\n",
              "    </tr>\n",
              "  </thead>\n",
              "  <tbody>\n",
              "    <tr>\n",
              "      <th>0</th>\n",
              "      <td>M3A</td>\n",
              "      <td>North York</td>\n",
              "      <td>Parkwoods</td>\n",
              "    </tr>\n",
              "    <tr>\n",
              "      <th>1</th>\n",
              "      <td>M4A</td>\n",
              "      <td>North York</td>\n",
              "      <td>Victoria Village</td>\n",
              "    </tr>\n",
              "    <tr>\n",
              "      <th>2</th>\n",
              "      <td>M5A</td>\n",
              "      <td>Downtown Toronto</td>\n",
              "      <td>Regent Park, Harbourfront</td>\n",
              "    </tr>\n",
              "    <tr>\n",
              "      <th>3</th>\n",
              "      <td>M6A</td>\n",
              "      <td>North York</td>\n",
              "      <td>Lawrence Manor, Lawrence Heights</td>\n",
              "    </tr>\n",
              "    <tr>\n",
              "      <th>4</th>\n",
              "      <td>M7A</td>\n",
              "      <td>Queen's Park</td>\n",
              "      <td>Ontario Provincial Government</td>\n",
              "    </tr>\n",
              "    <tr>\n",
              "      <th>...</th>\n",
              "      <td>...</td>\n",
              "      <td>...</td>\n",
              "      <td>...</td>\n",
              "    </tr>\n",
              "    <tr>\n",
              "      <th>98</th>\n",
              "      <td>M8X</td>\n",
              "      <td>Etobicoke</td>\n",
              "      <td>The Kingsway, Montgomery Road, Old Mill North</td>\n",
              "    </tr>\n",
              "    <tr>\n",
              "      <th>99</th>\n",
              "      <td>M4Y</td>\n",
              "      <td>Downtown Toronto</td>\n",
              "      <td>Church and Wellesley</td>\n",
              "    </tr>\n",
              "    <tr>\n",
              "      <th>100</th>\n",
              "      <td>M7Y</td>\n",
              "      <td>East Toronto Business</td>\n",
              "      <td>Enclave of M4L</td>\n",
              "    </tr>\n",
              "    <tr>\n",
              "      <th>101</th>\n",
              "      <td>M8Y</td>\n",
              "      <td>Etobicoke</td>\n",
              "      <td>Old Mill South, King's Mill Park, Sunnylea, Hu...</td>\n",
              "    </tr>\n",
              "    <tr>\n",
              "      <th>102</th>\n",
              "      <td>M8Z</td>\n",
              "      <td>Etobicoke</td>\n",
              "      <td>Mimico NW, The Queensway West, South of Bloor,...</td>\n",
              "    </tr>\n",
              "  </tbody>\n",
              "</table>\n",
              "<p>103 rows × 3 columns</p>\n",
              "</div>"
            ],
            "text/plain": [
              "    PostalCode  ...                                       Neighborhood\n",
              "0          M3A  ...                                          Parkwoods\n",
              "1          M4A  ...                                   Victoria Village\n",
              "2          M5A  ...                          Regent Park, Harbourfront\n",
              "3          M6A  ...                   Lawrence Manor, Lawrence Heights\n",
              "4          M7A  ...                      Ontario Provincial Government\n",
              "..         ...  ...                                                ...\n",
              "98         M8X  ...      The Kingsway, Montgomery Road, Old Mill North\n",
              "99         M4Y  ...                               Church and Wellesley\n",
              "100        M7Y  ...                                     Enclave of M4L\n",
              "101        M8Y  ...  Old Mill South, King's Mill Park, Sunnylea, Hu...\n",
              "102        M8Z  ...  Mimico NW, The Queensway West, South of Bloor,...\n",
              "\n",
              "[103 rows x 3 columns]"
            ]
          },
          "metadata": {
            "tags": []
          },
          "execution_count": 15
        }
      ]
    },
    {
      "cell_type": "code",
      "metadata": {
        "colab": {
          "base_uri": "https://localhost:8080/",
          "height": 450
        },
        "id": "QcndNWGk8WO2",
        "outputId": "14c16f9e-eadc-4535-80eb-d0691f3427cf"
      },
      "source": [
        "df = df.set_index('PostalCode')\n",
        "df"
      ],
      "execution_count": 22,
      "outputs": [
        {
          "output_type": "execute_result",
          "data": {
            "text/html": [
              "<div>\n",
              "<style scoped>\n",
              "    .dataframe tbody tr th:only-of-type {\n",
              "        vertical-align: middle;\n",
              "    }\n",
              "\n",
              "    .dataframe tbody tr th {\n",
              "        vertical-align: top;\n",
              "    }\n",
              "\n",
              "    .dataframe thead th {\n",
              "        text-align: right;\n",
              "    }\n",
              "</style>\n",
              "<table border=\"1\" class=\"dataframe\">\n",
              "  <thead>\n",
              "    <tr style=\"text-align: right;\">\n",
              "      <th></th>\n",
              "      <th>Borough</th>\n",
              "      <th>Neighborhood</th>\n",
              "    </tr>\n",
              "    <tr>\n",
              "      <th>PostalCode</th>\n",
              "      <th></th>\n",
              "      <th></th>\n",
              "    </tr>\n",
              "  </thead>\n",
              "  <tbody>\n",
              "    <tr>\n",
              "      <th>M3A</th>\n",
              "      <td>North York</td>\n",
              "      <td>Parkwoods</td>\n",
              "    </tr>\n",
              "    <tr>\n",
              "      <th>M4A</th>\n",
              "      <td>North York</td>\n",
              "      <td>Victoria Village</td>\n",
              "    </tr>\n",
              "    <tr>\n",
              "      <th>M5A</th>\n",
              "      <td>Downtown Toronto</td>\n",
              "      <td>Regent Park, Harbourfront</td>\n",
              "    </tr>\n",
              "    <tr>\n",
              "      <th>M6A</th>\n",
              "      <td>North York</td>\n",
              "      <td>Lawrence Manor, Lawrence Heights</td>\n",
              "    </tr>\n",
              "    <tr>\n",
              "      <th>M7A</th>\n",
              "      <td>Queen's Park</td>\n",
              "      <td>Ontario Provincial Government</td>\n",
              "    </tr>\n",
              "    <tr>\n",
              "      <th>...</th>\n",
              "      <td>...</td>\n",
              "      <td>...</td>\n",
              "    </tr>\n",
              "    <tr>\n",
              "      <th>M8X</th>\n",
              "      <td>Etobicoke</td>\n",
              "      <td>The Kingsway, Montgomery Road, Old Mill North</td>\n",
              "    </tr>\n",
              "    <tr>\n",
              "      <th>M4Y</th>\n",
              "      <td>Downtown Toronto</td>\n",
              "      <td>Church and Wellesley</td>\n",
              "    </tr>\n",
              "    <tr>\n",
              "      <th>M7Y</th>\n",
              "      <td>East Toronto Business</td>\n",
              "      <td>Enclave of M4L</td>\n",
              "    </tr>\n",
              "    <tr>\n",
              "      <th>M8Y</th>\n",
              "      <td>Etobicoke</td>\n",
              "      <td>Old Mill South, King's Mill Park, Sunnylea, Hu...</td>\n",
              "    </tr>\n",
              "    <tr>\n",
              "      <th>M8Z</th>\n",
              "      <td>Etobicoke</td>\n",
              "      <td>Mimico NW, The Queensway West, South of Bloor,...</td>\n",
              "    </tr>\n",
              "  </tbody>\n",
              "</table>\n",
              "<p>103 rows × 2 columns</p>\n",
              "</div>"
            ],
            "text/plain": [
              "                          Borough                                       Neighborhood\n",
              "PostalCode                                                                          \n",
              "M3A                    North York                                          Parkwoods\n",
              "M4A                    North York                                   Victoria Village\n",
              "M5A              Downtown Toronto                          Regent Park, Harbourfront\n",
              "M6A                    North York                   Lawrence Manor, Lawrence Heights\n",
              "M7A                  Queen's Park                      Ontario Provincial Government\n",
              "...                           ...                                                ...\n",
              "M8X                     Etobicoke      The Kingsway, Montgomery Road, Old Mill North\n",
              "M4Y              Downtown Toronto                               Church and Wellesley\n",
              "M7Y         East Toronto Business                                     Enclave of M4L\n",
              "M8Y                     Etobicoke  Old Mill South, King's Mill Park, Sunnylea, Hu...\n",
              "M8Z                     Etobicoke  Mimico NW, The Queensway West, South of Bloor,...\n",
              "\n",
              "[103 rows x 2 columns]"
            ]
          },
          "metadata": {
            "tags": []
          },
          "execution_count": 22
        }
      ]
    },
    {
      "cell_type": "markdown",
      "metadata": {
        "id": "mGsz0huJ7w5k"
      },
      "source": [
        "# HW2 of Week3"
      ]
    },
    {
      "cell_type": "markdown",
      "metadata": {
        "id": "K3oQCZ_37sIi"
      },
      "source": [
        "## Merge With Geo Spatial Data"
      ]
    },
    {
      "cell_type": "code",
      "metadata": {
        "colab": {
          "base_uri": "https://localhost:8080/"
        },
        "id": "ESF8Agqb6YKf",
        "outputId": "8dba8f63-dd1a-431e-e2a6-c1ed10e55c33"
      },
      "source": [
        "!wget https://cocl.us/Geospatial_data"
      ],
      "execution_count": 16,
      "outputs": [
        {
          "output_type": "stream",
          "text": [
            "--2021-03-27 08:58:14--  https://cocl.us/Geospatial_data\n",
            "Resolving cocl.us (cocl.us)... 52.116.127.228, 52.116.127.226\n",
            "Connecting to cocl.us (cocl.us)|52.116.127.228|:443... connected.\n",
            "HTTP request sent, awaiting response... 301 Moved Permanently\n",
            "Location: https://ibm.box.com/shared/static/9afzr83pps4pwf2smjjcf1y5mvgb18rr.csv [following]\n",
            "--2021-03-27 08:58:15--  https://ibm.box.com/shared/static/9afzr83pps4pwf2smjjcf1y5mvgb18rr.csv\n",
            "Resolving ibm.box.com (ibm.box.com)... 185.235.236.197\n",
            "Connecting to ibm.box.com (ibm.box.com)|185.235.236.197|:443... connected.\n",
            "HTTP request sent, awaiting response... 301 Moved Permanently\n",
            "Location: /public/static/9afzr83pps4pwf2smjjcf1y5mvgb18rr.csv [following]\n",
            "--2021-03-27 08:58:15--  https://ibm.box.com/public/static/9afzr83pps4pwf2smjjcf1y5mvgb18rr.csv\n",
            "Reusing existing connection to ibm.box.com:443.\n",
            "HTTP request sent, awaiting response... 301 Moved Permanently\n",
            "Location: https://ibm.ent.box.com/public/static/9afzr83pps4pwf2smjjcf1y5mvgb18rr.csv [following]\n",
            "--2021-03-27 08:58:15--  https://ibm.ent.box.com/public/static/9afzr83pps4pwf2smjjcf1y5mvgb18rr.csv\n",
            "Resolving ibm.ent.box.com (ibm.ent.box.com)... 185.235.236.201\n",
            "Connecting to ibm.ent.box.com (ibm.ent.box.com)|185.235.236.201|:443... connected.\n",
            "HTTP request sent, awaiting response... 302 Found\n",
            "Location: https://public.boxcloud.com/d/1/b1!zSXy2gzBACZlGbKAalXcyrWgwDVAOIjeLKFJTtaj8XnHk7R7ubfmubavkwdMWztj52soCKTn11eb8yEbeQQthelCfMaNtZnm9Ewfn1ncb_H5nOVXcCGEiCtutHi0fDQZ3cQfdX3Rcmxjq93gV8wXNO8Kks-lp_7P_24P0_USviEyapRuc89ZsUkgLqyZd3NS5UdJ0Wc-v2FPykH45fTfCP2YpaSjvZEvAe2KnzeRhtSCZJjrqcDOJMdwSSilVxgw8olOwhneOQpn97WCKE9kZ5z723Lau95kLlybq7UeK_6G3vubdriw0qaqZkHMWzyEqvKHLmrZ6ZMzKR_ZOtks-YRgLgahyxtqqR2oyVJ2bQcjeJiv-RajSeim0fgaw89Viai-jTMClsFh_Oe8XrZ-Ey8EpE7g4pPcr6t7mbLxe1N3dgCfzeUJTwSyJFHPor4-E7LVTh2Q_YtABqd3EjniWXugZ7xRlmeAu4JFVR4q1PW6iFqIAZbCPv6GHe-lHtRsm6stvAHWzXx9tMpyo-SCS6u9nfjKxdkz4bYNPBtj3cnbINTWOtxWmoFTUU2lRLv1yQlW04q5ZttYMPbNjU5hV39qyhsO-VgJ3bGawTBfem2YELXRlvrMeFJGwDwMcYBfguVpz79LC5XgNQTzQAfm7cXIkAttL5mOopat5h494zO7nou24z5m5Z0KjG1jnIl9MbAJhphDqG8tac2He8wFkYLQj-PRwxGkO6nUV11gB-OJ5gfpbzAs36AIAZNikHiM3Exo0Su1EtBrLvfxTgGWg4mlzwOc2LLKKlcgazNwtULibmdeBsKHY8biBSspW26YFgFNS-TznoZdyJL1qvTp6uAWYb9fXKIM-mUfdhKXlBOIYQTceSBkOAtF6qCR7pFB6c2f9G6XFF0ay394OHk-S8f-9bE0KKelSmS2vxazsRkdLh6fUsR6yMyiSqf--1m_z1Oty7icwpHN1aEnXxaTpd3j1_7nC3kAwofxNba_I5sMaqS_uXatx1NXzJAV4LrfzFJLFpkL_AEqvVUhUTXDGDyo6zmYi5gYuyNlS1idSC9BXvpCjTgsIspFNotW3vu6Mco_Hr7_QmZj6ByHHB2p3EUUZnESaN7f2mmFLCViwh_SyOpynVDnbGqXdbGm68Kejp09cZRcZh3LSHlMYr6cTMFeTi3OojoU9xwmcewYfJdzP6tBlKW9z6ep_ehPSw16UcTwSg-IrFzhH7PT5BwDXtjooMxJpdcud8AwlSe1obhJFxq38E_uUHgSNvP6qRAMOgbnPHXBKHt6oSHacSw5zQyPSAifatHuLTpagwYap43EUl5qoMldK-DhELn6L2qkLlRkDZA0z5ars97Dl5anu2uJRBll_POWbY6jreQlDL4hBLNc3pBtTO0iI8wwfgFPR2Qbm1yeWbxsywT8j3Gm_ak8p_d7EWYxpI9xiUZC0BMxwA../download [following]\n",
            "--2021-03-27 08:58:16--  https://public.boxcloud.com/d/1/b1!zSXy2gzBACZlGbKAalXcyrWgwDVAOIjeLKFJTtaj8XnHk7R7ubfmubavkwdMWztj52soCKTn11eb8yEbeQQthelCfMaNtZnm9Ewfn1ncb_H5nOVXcCGEiCtutHi0fDQZ3cQfdX3Rcmxjq93gV8wXNO8Kks-lp_7P_24P0_USviEyapRuc89ZsUkgLqyZd3NS5UdJ0Wc-v2FPykH45fTfCP2YpaSjvZEvAe2KnzeRhtSCZJjrqcDOJMdwSSilVxgw8olOwhneOQpn97WCKE9kZ5z723Lau95kLlybq7UeK_6G3vubdriw0qaqZkHMWzyEqvKHLmrZ6ZMzKR_ZOtks-YRgLgahyxtqqR2oyVJ2bQcjeJiv-RajSeim0fgaw89Viai-jTMClsFh_Oe8XrZ-Ey8EpE7g4pPcr6t7mbLxe1N3dgCfzeUJTwSyJFHPor4-E7LVTh2Q_YtABqd3EjniWXugZ7xRlmeAu4JFVR4q1PW6iFqIAZbCPv6GHe-lHtRsm6stvAHWzXx9tMpyo-SCS6u9nfjKxdkz4bYNPBtj3cnbINTWOtxWmoFTUU2lRLv1yQlW04q5ZttYMPbNjU5hV39qyhsO-VgJ3bGawTBfem2YELXRlvrMeFJGwDwMcYBfguVpz79LC5XgNQTzQAfm7cXIkAttL5mOopat5h494zO7nou24z5m5Z0KjG1jnIl9MbAJhphDqG8tac2He8wFkYLQj-PRwxGkO6nUV11gB-OJ5gfpbzAs36AIAZNikHiM3Exo0Su1EtBrLvfxTgGWg4mlzwOc2LLKKlcgazNwtULibmdeBsKHY8biBSspW26YFgFNS-TznoZdyJL1qvTp6uAWYb9fXKIM-mUfdhKXlBOIYQTceSBkOAtF6qCR7pFB6c2f9G6XFF0ay394OHk-S8f-9bE0KKelSmS2vxazsRkdLh6fUsR6yMyiSqf--1m_z1Oty7icwpHN1aEnXxaTpd3j1_7nC3kAwofxNba_I5sMaqS_uXatx1NXzJAV4LrfzFJLFpkL_AEqvVUhUTXDGDyo6zmYi5gYuyNlS1idSC9BXvpCjTgsIspFNotW3vu6Mco_Hr7_QmZj6ByHHB2p3EUUZnESaN7f2mmFLCViwh_SyOpynVDnbGqXdbGm68Kejp09cZRcZh3LSHlMYr6cTMFeTi3OojoU9xwmcewYfJdzP6tBlKW9z6ep_ehPSw16UcTwSg-IrFzhH7PT5BwDXtjooMxJpdcud8AwlSe1obhJFxq38E_uUHgSNvP6qRAMOgbnPHXBKHt6oSHacSw5zQyPSAifatHuLTpagwYap43EUl5qoMldK-DhELn6L2qkLlRkDZA0z5ars97Dl5anu2uJRBll_POWbY6jreQlDL4hBLNc3pBtTO0iI8wwfgFPR2Qbm1yeWbxsywT8j3Gm_ak8p_d7EWYxpI9xiUZC0BMxwA../download\n",
            "Resolving public.boxcloud.com (public.boxcloud.com)... 185.235.236.200\n",
            "Connecting to public.boxcloud.com (public.boxcloud.com)|185.235.236.200|:443... connected.\n",
            "HTTP request sent, awaiting response... 200 OK\n",
            "Length: 2891 (2.8K) [text/csv]\n",
            "Saving to: ‘Geospatial_data’\n",
            "\n",
            "Geospatial_data     100%[===================>]   2.82K  --.-KB/s    in 0s      \n",
            "\n",
            "2021-03-27 08:58:16 (158 MB/s) - ‘Geospatial_data’ saved [2891/2891]\n",
            "\n"
          ],
          "name": "stdout"
        }
      ]
    },
    {
      "cell_type": "code",
      "metadata": {
        "colab": {
          "base_uri": "https://localhost:8080/",
          "height": 450
        },
        "id": "hpLvNxMi71FU",
        "outputId": "5b1ae57d-c149-4a0d-d7d6-b17d0a7df397"
      },
      "source": [
        "import pandas as pd\n",
        "df2 = pd.read_csv('Geospatial_data')\n",
        "df2 = df2.set_index('Postal Code')\n",
        "df2"
      ],
      "execution_count": 20,
      "outputs": [
        {
          "output_type": "execute_result",
          "data": {
            "text/html": [
              "<div>\n",
              "<style scoped>\n",
              "    .dataframe tbody tr th:only-of-type {\n",
              "        vertical-align: middle;\n",
              "    }\n",
              "\n",
              "    .dataframe tbody tr th {\n",
              "        vertical-align: top;\n",
              "    }\n",
              "\n",
              "    .dataframe thead th {\n",
              "        text-align: right;\n",
              "    }\n",
              "</style>\n",
              "<table border=\"1\" class=\"dataframe\">\n",
              "  <thead>\n",
              "    <tr style=\"text-align: right;\">\n",
              "      <th></th>\n",
              "      <th>Latitude</th>\n",
              "      <th>Longitude</th>\n",
              "    </tr>\n",
              "    <tr>\n",
              "      <th>Postal Code</th>\n",
              "      <th></th>\n",
              "      <th></th>\n",
              "    </tr>\n",
              "  </thead>\n",
              "  <tbody>\n",
              "    <tr>\n",
              "      <th>M1B</th>\n",
              "      <td>43.806686</td>\n",
              "      <td>-79.194353</td>\n",
              "    </tr>\n",
              "    <tr>\n",
              "      <th>M1C</th>\n",
              "      <td>43.784535</td>\n",
              "      <td>-79.160497</td>\n",
              "    </tr>\n",
              "    <tr>\n",
              "      <th>M1E</th>\n",
              "      <td>43.763573</td>\n",
              "      <td>-79.188711</td>\n",
              "    </tr>\n",
              "    <tr>\n",
              "      <th>M1G</th>\n",
              "      <td>43.770992</td>\n",
              "      <td>-79.216917</td>\n",
              "    </tr>\n",
              "    <tr>\n",
              "      <th>M1H</th>\n",
              "      <td>43.773136</td>\n",
              "      <td>-79.239476</td>\n",
              "    </tr>\n",
              "    <tr>\n",
              "      <th>...</th>\n",
              "      <td>...</td>\n",
              "      <td>...</td>\n",
              "    </tr>\n",
              "    <tr>\n",
              "      <th>M9N</th>\n",
              "      <td>43.706876</td>\n",
              "      <td>-79.518188</td>\n",
              "    </tr>\n",
              "    <tr>\n",
              "      <th>M9P</th>\n",
              "      <td>43.696319</td>\n",
              "      <td>-79.532242</td>\n",
              "    </tr>\n",
              "    <tr>\n",
              "      <th>M9R</th>\n",
              "      <td>43.688905</td>\n",
              "      <td>-79.554724</td>\n",
              "    </tr>\n",
              "    <tr>\n",
              "      <th>M9V</th>\n",
              "      <td>43.739416</td>\n",
              "      <td>-79.588437</td>\n",
              "    </tr>\n",
              "    <tr>\n",
              "      <th>M9W</th>\n",
              "      <td>43.706748</td>\n",
              "      <td>-79.594054</td>\n",
              "    </tr>\n",
              "  </tbody>\n",
              "</table>\n",
              "<p>103 rows × 2 columns</p>\n",
              "</div>"
            ],
            "text/plain": [
              "              Latitude  Longitude\n",
              "Postal Code                      \n",
              "M1B          43.806686 -79.194353\n",
              "M1C          43.784535 -79.160497\n",
              "M1E          43.763573 -79.188711\n",
              "M1G          43.770992 -79.216917\n",
              "M1H          43.773136 -79.239476\n",
              "...                ...        ...\n",
              "M9N          43.706876 -79.518188\n",
              "M9P          43.696319 -79.532242\n",
              "M9R          43.688905 -79.554724\n",
              "M9V          43.739416 -79.588437\n",
              "M9W          43.706748 -79.594054\n",
              "\n",
              "[103 rows x 2 columns]"
            ]
          },
          "metadata": {
            "tags": []
          },
          "execution_count": 20
        }
      ]
    },
    {
      "cell_type": "code",
      "metadata": {
        "colab": {
          "base_uri": "https://localhost:8080/",
          "height": 419
        },
        "id": "eyooYFg677Gr",
        "outputId": "adfc6cd3-fc66-4dae-dfe2-02155cb0903f"
      },
      "source": [
        "final_df = pd.merge(df, df2, how='inner', left_index=True, right_index = True)\n",
        "final_df"
      ],
      "execution_count": 24,
      "outputs": [
        {
          "output_type": "execute_result",
          "data": {
            "text/html": [
              "<div>\n",
              "<style scoped>\n",
              "    .dataframe tbody tr th:only-of-type {\n",
              "        vertical-align: middle;\n",
              "    }\n",
              "\n",
              "    .dataframe tbody tr th {\n",
              "        vertical-align: top;\n",
              "    }\n",
              "\n",
              "    .dataframe thead th {\n",
              "        text-align: right;\n",
              "    }\n",
              "</style>\n",
              "<table border=\"1\" class=\"dataframe\">\n",
              "  <thead>\n",
              "    <tr style=\"text-align: right;\">\n",
              "      <th></th>\n",
              "      <th>Borough</th>\n",
              "      <th>Neighborhood</th>\n",
              "      <th>Latitude</th>\n",
              "      <th>Longitude</th>\n",
              "    </tr>\n",
              "  </thead>\n",
              "  <tbody>\n",
              "    <tr>\n",
              "      <th>M3A</th>\n",
              "      <td>North York</td>\n",
              "      <td>Parkwoods</td>\n",
              "      <td>43.753259</td>\n",
              "      <td>-79.329656</td>\n",
              "    </tr>\n",
              "    <tr>\n",
              "      <th>M4A</th>\n",
              "      <td>North York</td>\n",
              "      <td>Victoria Village</td>\n",
              "      <td>43.725882</td>\n",
              "      <td>-79.315572</td>\n",
              "    </tr>\n",
              "    <tr>\n",
              "      <th>M5A</th>\n",
              "      <td>Downtown Toronto</td>\n",
              "      <td>Regent Park, Harbourfront</td>\n",
              "      <td>43.654260</td>\n",
              "      <td>-79.360636</td>\n",
              "    </tr>\n",
              "    <tr>\n",
              "      <th>M6A</th>\n",
              "      <td>North York</td>\n",
              "      <td>Lawrence Manor, Lawrence Heights</td>\n",
              "      <td>43.718518</td>\n",
              "      <td>-79.464763</td>\n",
              "    </tr>\n",
              "    <tr>\n",
              "      <th>M7A</th>\n",
              "      <td>Queen's Park</td>\n",
              "      <td>Ontario Provincial Government</td>\n",
              "      <td>43.662301</td>\n",
              "      <td>-79.389494</td>\n",
              "    </tr>\n",
              "    <tr>\n",
              "      <th>...</th>\n",
              "      <td>...</td>\n",
              "      <td>...</td>\n",
              "      <td>...</td>\n",
              "      <td>...</td>\n",
              "    </tr>\n",
              "    <tr>\n",
              "      <th>M8X</th>\n",
              "      <td>Etobicoke</td>\n",
              "      <td>The Kingsway, Montgomery Road, Old Mill North</td>\n",
              "      <td>43.653654</td>\n",
              "      <td>-79.506944</td>\n",
              "    </tr>\n",
              "    <tr>\n",
              "      <th>M4Y</th>\n",
              "      <td>Downtown Toronto</td>\n",
              "      <td>Church and Wellesley</td>\n",
              "      <td>43.665860</td>\n",
              "      <td>-79.383160</td>\n",
              "    </tr>\n",
              "    <tr>\n",
              "      <th>M7Y</th>\n",
              "      <td>East Toronto Business</td>\n",
              "      <td>Enclave of M4L</td>\n",
              "      <td>43.662744</td>\n",
              "      <td>-79.321558</td>\n",
              "    </tr>\n",
              "    <tr>\n",
              "      <th>M8Y</th>\n",
              "      <td>Etobicoke</td>\n",
              "      <td>Old Mill South, King's Mill Park, Sunnylea, Hu...</td>\n",
              "      <td>43.636258</td>\n",
              "      <td>-79.498509</td>\n",
              "    </tr>\n",
              "    <tr>\n",
              "      <th>M8Z</th>\n",
              "      <td>Etobicoke</td>\n",
              "      <td>Mimico NW, The Queensway West, South of Bloor,...</td>\n",
              "      <td>43.628841</td>\n",
              "      <td>-79.520999</td>\n",
              "    </tr>\n",
              "  </tbody>\n",
              "</table>\n",
              "<p>103 rows × 4 columns</p>\n",
              "</div>"
            ],
            "text/plain": [
              "                   Borough  ...  Longitude\n",
              "M3A             North York  ... -79.329656\n",
              "M4A             North York  ... -79.315572\n",
              "M5A       Downtown Toronto  ... -79.360636\n",
              "M6A             North York  ... -79.464763\n",
              "M7A           Queen's Park  ... -79.389494\n",
              "..                     ...  ...        ...\n",
              "M8X              Etobicoke  ... -79.506944\n",
              "M4Y       Downtown Toronto  ... -79.383160\n",
              "M7Y  East Toronto Business  ... -79.321558\n",
              "M8Y              Etobicoke  ... -79.498509\n",
              "M8Z              Etobicoke  ... -79.520999\n",
              "\n",
              "[103 rows x 4 columns]"
            ]
          },
          "metadata": {
            "tags": []
          },
          "execution_count": 24
        }
      ]
    },
    {
      "cell_type": "code",
      "metadata": {
        "id": "3D8FnSRM8cEu"
      },
      "source": [
        ""
      ],
      "execution_count": null,
      "outputs": []
    }
  ]
}